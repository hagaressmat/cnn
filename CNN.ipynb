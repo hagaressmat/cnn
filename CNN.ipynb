{
  "nbformat": 4,
  "nbformat_minor": 0,
  "metadata": {
    "kernelspec": {
      "display_name": "Python 3",
      "language": "python",
      "name": "python3"
    },
    "language_info": {
      "codemirror_mode": {
        "name": "ipython",
        "version": 3
      },
      "file_extension": ".py",
      "mimetype": "text/x-python",
      "name": "python",
      "nbconvert_exporter": "python",
      "pygments_lexer": "ipython3",
      "version": "3.6.3"
    },
    "colab": {
      "name": "Fruits_360 (1).ipynb",
      "provenance": [],
      "collapsed_sections": []
    },
    "accelerator": "GPU"
  },
  "cells": [
    {
      "cell_type": "code",
      "metadata": {
        "id": "_u4N80CN2UUh",
        "colab_type": "code",
        "outputId": "d947f3b5-e800-4bb2-a599-fb43471c60d0",
        "colab": {
          "base_uri": "https://localhost:8080/",
          "height": 119
        }
      },
      "source": [
        "!git clone https://github.com/hagaressmat/cnn.git"
      ],
      "execution_count": 0,
      "outputs": [
        {
          "output_type": "stream",
          "text": [
            "Cloning into 'cnn'...\n",
            "remote: Enumerating objects: 80948, done.\u001b[K\n",
            "remote: Total 80948 (delta 0), reused 0 (delta 0), pack-reused 80948\u001b[K\n",
            "Receiving objects: 100% (80948/80948), 677.99 MiB | 37.11 MiB/s, done.\n",
            "Resolving deltas: 100% (1/1), done.\n",
            "Checking out files: 100% (81213/81213), done.\n"
          ],
          "name": "stdout"
        }
      ]
    },
    {
      "cell_type": "code",
      "metadata": {
        "id": "RsGvVNydEwkP",
        "colab_type": "code",
        "colab": {}
      },
      "source": [
        "import numpy as np\n",
        "import os\n",
        "from imutils import paths\n",
        "import cv2\n",
        "import pandas as pd\n",
        "\n",
        "def load_images(path):\n",
        "  img_paths = list(paths.list_images(path))\n",
        "  img_paths.sort();\n",
        "  img_data = []\n",
        "  labels = []\n",
        "  for p in img_paths:\n",
        "    d = cv2.imread(p)\n",
        "    d = cv2.cvtColor(d, cv2.COLOR_BGR2RGB)\n",
        "    d = cv2.resize(d, (64, 64))\n",
        "    l = p.split(os.path.sep)[-2]\n",
        "    img_data.append(d)\n",
        "    labels.append(l)\n",
        "  img_data = np.array(img_data)\n",
        "  labels=pd.get_dummies(labels)\n",
        "  labels = np.array(labels)\n",
        "  return img_data, labels"
      ],
      "execution_count": 0,
      "outputs": []
    },
    {
      "cell_type": "code",
      "metadata": {
        "id": "_MVA8p_4EwkU",
        "colab_type": "code",
        "outputId": "13c00d6f-2530-4255-c542-4a317ebf8ce2",
        "colab": {
          "base_uri": "https://localhost:8080/",
          "height": 51
        }
      },
      "source": [
        "trn_data_path = '/content/cnn/Training'\n",
        "val_data_path = '/content/cnn/Test'\n",
        "X_train, y_train = load_images(trn_data_path)\n",
        "X_test, y_test = load_images(val_data_path)\n",
        "\n",
        "print(X_train.shape)\n",
        "print(y_train.shape)"
      ],
      "execution_count": 0,
      "outputs": [
        {
          "output_type": "stream",
          "text": [
            "(60486, 64, 64, 3)\n",
            "(60486, 120)\n"
          ],
          "name": "stdout"
        }
      ]
    },
    {
      "cell_type": "code",
      "metadata": {
        "id": "G7bOv70civje",
        "colab_type": "code",
        "outputId": "99532688-54ba-44bb-de8e-1ca63f833eca",
        "colab": {
          "base_uri": "https://localhost:8080/",
          "height": 578
        }
      },
      "source": [
        "#(2) import libraries\n",
        "from keras.models import Sequential\n",
        "from keras.layers import Conv2D,MaxPooling2D\n",
        "from keras.layers import Activation, Dense, Flatten, Dropout\n",
        "from keras.preprocessing.image import ImageDataGenerator\n",
        "from keras.callbacks import ModelCheckpoint\n",
        "from keras import backend as K\n",
        "\n",
        "#(3) Building the Keras model\n",
        "cnn = Sequential()\n",
        "\n",
        "cnn.add(Conv2D(16, (5, 5), input_shape = (64, 64, 3), padding = \"same\", activation = \"relu\"))\n",
        "cnn.add(MaxPooling2D())\n",
        "\n",
        "cnn.add(Conv2D(32, (5,5), padding='same', activation='relu'))\n",
        "cnn.add(MaxPooling2D())\n",
        "\n",
        "cnn.add(Conv2D(64, (5,5), padding='same', activation='relu'))\n",
        "cnn.add(MaxPooling2D())\n",
        "\n",
        "cnn.add(Conv2D(128, (5,5), padding='same', activation='relu'))\n",
        "cnn.add(MaxPooling2D())\n",
        "\n",
        "cnn.add(Flatten())\n",
        "cnn.add(Dropout(0.25))\n",
        "cnn.add(Dense(256, activation = \"relu\"))\n",
        "cnn.add(Dense(120, activation = \"softmax\"))\n",
        "\n",
        "\n",
        "#(4) Compiling the model\n",
        "cnn.compile(optimizer='adam', loss='categorical_crossentropy', metrics=['accuracy'])\n",
        "cnn.summary()"
      ],
      "execution_count": 0,
      "outputs": [
        {
          "output_type": "stream",
          "text": [
            "Using TensorFlow backend.\n"
          ],
          "name": "stderr"
        },
        {
          "output_type": "stream",
          "text": [
            "Model: \"sequential_1\"\n",
            "_________________________________________________________________\n",
            "Layer (type)                 Output Shape              Param #   \n",
            "=================================================================\n",
            "conv2d_1 (Conv2D)            (None, 64, 64, 16)        1216      \n",
            "_________________________________________________________________\n",
            "max_pooling2d_1 (MaxPooling2 (None, 32, 32, 16)        0         \n",
            "_________________________________________________________________\n",
            "conv2d_2 (Conv2D)            (None, 32, 32, 32)        12832     \n",
            "_________________________________________________________________\n",
            "max_pooling2d_2 (MaxPooling2 (None, 16, 16, 32)        0         \n",
            "_________________________________________________________________\n",
            "conv2d_3 (Conv2D)            (None, 16, 16, 64)        51264     \n",
            "_________________________________________________________________\n",
            "max_pooling2d_3 (MaxPooling2 (None, 8, 8, 64)          0         \n",
            "_________________________________________________________________\n",
            "conv2d_4 (Conv2D)            (None, 8, 8, 128)         204928    \n",
            "_________________________________________________________________\n",
            "max_pooling2d_4 (MaxPooling2 (None, 4, 4, 128)         0         \n",
            "_________________________________________________________________\n",
            "flatten_1 (Flatten)          (None, 2048)              0         \n",
            "_________________________________________________________________\n",
            "dropout_1 (Dropout)          (None, 2048)              0         \n",
            "_________________________________________________________________\n",
            "dense_1 (Dense)              (None, 256)               524544    \n",
            "_________________________________________________________________\n",
            "dense_2 (Dense)              (None, 120)               30840     \n",
            "=================================================================\n",
            "Total params: 825,624\n",
            "Trainable params: 825,624\n",
            "Non-trainable params: 0\n",
            "_________________________________________________________________\n"
          ],
          "name": "stdout"
        }
      ]
    },
    {
      "cell_type": "code",
      "metadata": {
        "id": "1UuBW7LViyFc",
        "colab_type": "code",
        "outputId": "3ac3cf46-8b19-4460-ef90-2b790cff7a2d",
        "colab": {
          "base_uri": "https://localhost:8080/",
          "height": 306
        }
      },
      "source": [
        "#(5) Training the model\n",
        "history_cnn = cnn.fit(X_train, y_train, epochs=8, batch_size=128, validation_split=0.1 , verbose=2, shuffle=True)"
      ],
      "execution_count": 0,
      "outputs": [
        {
          "output_type": "stream",
          "text": [
            "Train on 54437 samples, validate on 6049 samples\n",
            "Epoch 1/8\n",
            " - 16s - loss: 1.2695 - accuracy: 0.7789 - val_loss: 37.4768 - val_accuracy: 0.0352\n",
            "Epoch 2/8\n",
            " - 8s - loss: 0.0670 - accuracy: 0.9784 - val_loss: 39.1210 - val_accuracy: 0.0291\n",
            "Epoch 3/8\n",
            " - 8s - loss: 0.0447 - accuracy: 0.9857 - val_loss: 33.5821 - val_accuracy: 0.0382\n",
            "Epoch 4/8\n",
            " - 8s - loss: 0.0388 - accuracy: 0.9880 - val_loss: 40.7947 - val_accuracy: 0.0448\n",
            "Epoch 5/8\n",
            " - 8s - loss: 0.0413 - accuracy: 0.9874 - val_loss: 46.7751 - val_accuracy: 0.0382\n",
            "Epoch 6/8\n",
            " - 8s - loss: 0.0522 - accuracy: 0.9848 - val_loss: 40.6151 - val_accuracy: 0.0469\n",
            "Epoch 7/8\n",
            " - 8s - loss: 0.0560 - accuracy: 0.9839 - val_loss: 47.7655 - val_accuracy: 0.0269\n",
            "Epoch 8/8\n",
            " - 8s - loss: 0.0488 - accuracy: 0.9869 - val_loss: 48.8323 - val_accuracy: 0.0225\n"
          ],
          "name": "stdout"
        }
      ]
    },
    {
      "cell_type": "code",
      "metadata": {
        "id": "OSZlSMytkir9",
        "colab_type": "code",
        "colab": {}
      },
      "source": [
        "y_test = np.argmax(y_test , 1)\n",
        "\n",
        "predictions = cnn.predict(X_test)\n",
        "predictions = np.argmax(predictions , 1)"
      ],
      "execution_count": 0,
      "outputs": []
    },
    {
      "cell_type": "code",
      "metadata": {
        "id": "GbbgpSZQkkGI",
        "colab_type": "code",
        "outputId": "aa345d42-46a6-4caf-e876-5c9a85e762d6",
        "colab": {
          "base_uri": "https://localhost:8080/",
          "height": 34
        }
      },
      "source": [
        "from sklearn.metrics import accuracy_score\n",
        "\n",
        "print ('Test Accuracy Score :',accuracy_score(y_test, predictions))"
      ],
      "execution_count": 0,
      "outputs": [
        {
          "output_type": "stream",
          "text": [
            "Test Accuracy Score : 0.8764671646134445\n"
          ],
          "name": "stdout"
        }
      ]
    },
    {
      "cell_type": "code",
      "metadata": {
        "id": "LMRJJFGjloN1",
        "colab_type": "code",
        "outputId": "f1d510dd-beed-4911-c7f2-fe67b99cbd03",
        "colab": {
          "base_uri": "https://localhost:8080/",
          "height": 153
        }
      },
      "source": [
        "from sklearn.metrics import confusion_matrix\n",
        "\n",
        "print ('Test Confusion Matrix :\\n',confusion_matrix(y_test, predictions))"
      ],
      "execution_count": 0,
      "outputs": [
        {
          "output_type": "stream",
          "text": [
            "Test Confusion Matrix :\n",
            " [[114   0   0 ...   0   0   0]\n",
            " [  0 148   0 ...   0   0   0]\n",
            " [  0   0 160 ...   0   0   0]\n",
            " ...\n",
            " [  0   0   0 ...   0   0   0]\n",
            " [  0   0   0 ...   0   0   0]\n",
            " [  0   0   0 ...   0   0   0]]\n"
          ],
          "name": "stdout"
        }
      ]
    }
  ]
}